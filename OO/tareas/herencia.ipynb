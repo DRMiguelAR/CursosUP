{
 "cells": [
  {
   "cell_type": "code",
   "execution_count": 11,
   "id": "f97177ff-ffd2-4b88-a4e1-8a5925d9d046",
   "metadata": {},
   "outputs": [],
   "source": [
    "class Animal:\n",
    "    nombre: str\n",
    "    def __init__(self, nombre):\n",
    "        self.nombre= nombre\n",
    "    def __repr__(self):\n",
    "        return self.nombre + \" está en el zoológico.\"\n",
    "    def dar_de_comer(self):\n",
    "        print(self.nombre, \"comió su alimento.\")\n",
    "    def abrazar(self):\n",
    "        print(\"No está implementado abrazar para \"+ self.nombre)\n",
    "\n",
    "class Erizo(Animal):\n",
    "    pass\n",
    "\n",
    "class Abrazable(Animal):\n",
    "    def __init__(self, nombre):\n",
    "        nuevo_nombre= nombre + \" Abrazable\"\n",
    "        super().__init__(nuevo_nombre)\n",
    "    \n",
    "    def abrazar(self):\n",
    "         print(\"Abrazamos a\", self.nombre)\n",
    "\n",
    "class Pato(Abrazable):\n",
    "    def __init__(self, nombre): ##Ya existe un __init en animal\n",
    "        \"\"\" haremos una sobrecarga sobre el otro init  \"\"\"\n",
    "        nuevo_nombre= \"Pato \"+ nombre\n",
    "        super().__init__(nuevo_nombre)\n",
    "        \n",
    "    def graznar(self):\n",
    "        print(\"Cuac cuac\")\n",
    "\n",
    "class Perro(Abrazable):\n",
    "    def ladrar(self):\n",
    "        print(\"Woof woof\")\n",
    "        "
   ]
  },
  {
   "cell_type": "code",
   "execution_count": 12,
   "id": "a922c1a8-7579-4087-9471-3e7f259175e5",
   "metadata": {},
   "outputs": [
    {
     "name": "stdout",
     "output_type": "stream",
     "text": [
      "Cuac cuac\n",
      "Abrazamos a Pato Dewey Abrazable\n",
      "Pato Dewey Abrazable comió su alimento.\n"
     ]
    }
   ],
   "source": [
    "dewey= Pato(\"Dewey\")\n",
    "dewey.graznar()\n",
    "dewey.abrazar()\n",
    "dewey.dar_de_comer()"
   ]
  },
  {
   "cell_type": "markdown",
   "id": "f56c2c71-d121-478a-8461-9b39b94ffd75",
   "metadata": {},
   "source": [
    "### Generar a todos los animales"
   ]
  },
  {
   "cell_type": "code",
   "execution_count": 13,
   "id": "6f1f55c1-f6cc-4d14-8fc2-95045debade9",
   "metadata": {},
   "outputs": [
    {
     "name": "stdout",
     "output_type": "stream",
     "text": [
      "Pato Huey Abrazable está en el zoológico.\n",
      "Pato Lewie Abrazable está en el zoológico.\n",
      "Pato Dewey Abrazable está en el zoológico.\n",
      "Chuck está en el zoológico.\n",
      "Butch está en el zoológico.\n",
      "Lucky Abrazable está en el zoológico.\n",
      "Sparky Abrazable está en el zoológico.\n"
     ]
    }
   ],
   "source": [
    "animales= [ ]\n",
    "for nombre in [\"Huey\", \"Lewie\", \"Dewey\"]:\n",
    "    animales.append( Pato(nombre) )\n",
    "    \n",
    "for nombre in [\"Chuck\", \"Butch\"]:\n",
    "    animales.append( Erizo(nombre) )\n",
    "    \n",
    "for nombre in [\"Lucky\", \"Sparky\"]:\n",
    "    animales.append( Perro(nombre) )\n",
    "    \n",
    "for animal in animales:\n",
    "    print(animal)"
   ]
  },
  {
   "cell_type": "code",
   "execution_count": 14,
   "id": "d7a7cd7f-6a9a-4757-a24e-505d34c4d311",
   "metadata": {},
   "outputs": [
    {
     "name": "stdout",
     "output_type": "stream",
     "text": [
      "Abrazamos a Pato Huey Abrazable\n",
      "Abrazamos a Pato Lewie Abrazable\n",
      "Abrazamos a Pato Dewey Abrazable\n",
      "No está implementado abrazar para Chuck\n",
      "No está implementado abrazar para Butch\n",
      "Abrazamos a Lucky Abrazable\n",
      "Abrazamos a Sparky Abrazable\n"
     ]
    }
   ],
   "source": [
    "for animal in animales:\n",
    "    animal.abrazar()"
   ]
  },
  {
   "cell_type": "raw",
   "id": "ab4822cc-44e6-43b1-a295-64a773db952d",
   "metadata": {},
   "source": [
    "## Ejercicio\n",
    "\n",
    "### 1. Situación:  \n",
    "Se tiene una empresa con programadores, secretarias y gerentes.  \n",
    "Los programadores y las secretarias reciben un sueldo base más un bono por antigüedad de \\$1000 por año trabajado.  \n",
    "Los gerentes sólo reciben su salario.  \n",
    "**Los gerentes pueden cambiar el salario de los programadores en cualquier momento, pero sólo para incrementarlo.**  \n",
    "**Todos tienen una función trabajar, pero el gerente gerencia; el programador programa y la secretaria apoya.**  \n",
    "**Para subirlos al sistema, se conoce la antigüedad, el nombre y el puesto de la persona.**  \n",
    "**Las clases que modele el sistema deben incluir un método que calcule el salario adecuadamente y lo regrese \n",
    "para imprimirlo.**\n",
    "    \n",
    "Salarios base:\n",
    "- Gerentes: __\\$50,000__  \n",
    "- Secretarias: __\\$15,000__   \n",
    "- Programadores: __\\$25,000__  \n",
    "    \n",
    "### 1. Objetivos    \n",
    "    1. Modela las clases necesarias para representar esta situación.\n",
    "    2. Programar las clases utilizando herencia\n",
    "    3. Crear una prueba en la que se generen uno de cada tipo de empleado y se utilice por lo menos una vez cada función."
   ]
  },
  {
   "cell_type": "code",
   "execution_count": 20,
   "id": "d850236b-f7d9-493e-87d3-5a2115b4d9a2",
   "metadata": {},
   "outputs": [
    {
     "name": "stdout",
     "output_type": "stream",
     "text": [
      "Pedro Ramírez 50000\n",
      "Sarah García 28000\n",
      "Sarah García 30500\n"
     ]
    }
   ],
   "source": [
    "class Empleado:\n",
    "    \"\"\" Clase base para todos los empleados \"\"\"\n",
    "    nombre: str\n",
    "    puesto: str\n",
    "    antiguedad: int\n",
    "    \n",
    "    def __init__(self, nombre, puesto, antiguedad):\n",
    "        self.nombre= nombre\n",
    "        self.puesto= puesto\n",
    "        self.antiguedad= antiguedad\n",
    "        \n",
    "        if puesto== \"Gerente\":\n",
    "            self.base= 50_000\n",
    "        elif puesto== \"Programador\":\n",
    "            self.base= 25_000\n",
    "        elif puesto== \"Secretaria\":\n",
    "            self.base= 15_000\n",
    "        else:\n",
    "            self.base= 0\n",
    "            \n",
    "    def salario(self):\n",
    "        return self.base\n",
    "\n",
    "class Gerente(Empleado):\n",
    "    def dar_aumento(self, programador, aumento):\n",
    "        programador.base+= aumento\n",
    "\n",
    "class Bonificado(Empleado):\n",
    "    def salario(self):\n",
    "        return self.base + self.antiguedad*1000\n",
    "\n",
    "class Programador(Bonificado):\n",
    "    pass\n",
    "    \n",
    "e1= Gerente(\"Pedro Ramírez\", \"Gerente\", 5)\n",
    "print(e1.nombre, e1.salario() )\n",
    "\n",
    "e2= Bonificado(\"Sarah García\", \"Programador\", 3)\n",
    "print(e2.nombre, e2.salario())\n",
    "\n",
    "e1.dar_aumento(e2, 2500)\n",
    "print(e2.nombre, e2.salario())"
   ]
  },
  {
   "cell_type": "code",
   "execution_count": null,
   "id": "83ec9874-18a5-4762-bc47-82aee0649a5b",
   "metadata": {},
   "outputs": [],
   "source": []
  }
 ],
 "metadata": {
  "kernelspec": {
   "display_name": "Python 3 (ipykernel)",
   "language": "python",
   "name": "python3"
  },
  "language_info": {
   "codemirror_mode": {
    "name": "ipython",
    "version": 3
   },
   "file_extension": ".py",
   "mimetype": "text/x-python",
   "name": "python",
   "nbconvert_exporter": "python",
   "pygments_lexer": "ipython3",
   "version": "3.8.3"
  }
 },
 "nbformat": 4,
 "nbformat_minor": 5
}
